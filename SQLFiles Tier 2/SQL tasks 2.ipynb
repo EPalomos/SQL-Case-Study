{
 "cells": [
  {
   "cell_type": "code",
   "execution_count": 36,
   "id": "0edc4969",
   "metadata": {},
   "outputs": [
    {
     "name": "stdout",
     "output_type": "stream",
     "text": [
      "2.6.0\n",
      "2. Query all tasks\n",
      "('Table Tennis', 0, 2015, 2015)\n",
      "('Snooker Table', 0, 2220, 2220)\n",
      "('Pool Table', 0, 4180, 4180)\n",
      "('Badminton Court', 0, 5936.5, 5936.5)\n",
      "('Squash Court', 1540.0, 7700.0, 9240.0)\n",
      "('Massage Room 2', 1098.899999999999, 8880, 9978.89999999998)\n",
      "('Tennis Court 2', 1945, 9725, 11670)\n",
      "('Tennis Court 1', 2040, 10200, 12240)\n",
      "('Massage Room 1', 6227.099999999948, 50320, 56547.1000000006)\n"
     ]
    }
   ],
   "source": [
    "import sqlite3\n",
    "from sqlite3 import Error\n",
    "\n",
    " \n",
    "def create_connection(db_file):\n",
    "    \"\"\" create a database connection to the SQLite database\n",
    "        specified by the db_file\n",
    "    :param db_file: database file\n",
    "    :return: Connection object or None\n",
    "    \"\"\"\n",
    "    conn = None\n",
    "    try:\n",
    "        conn = sqlite3.connect(db_file)\n",
    "        print(sqlite3.version)\n",
    "    except Error as e:\n",
    "        print(e)\n",
    " \n",
    "    return conn\n",
    "\n",
    " \n",
    "def select_all_tasks(conn):\n",
    "    \"\"\"\n",
    "    Query all rows in the tasks table\n",
    "    :param conn: the Connection object\n",
    "    :return:\n",
    "    \"\"\"\n",
    "    cur = conn.cursor()\n",
    "    \n",
    "    query1 = \"\"\"\n",
    "        SELECT f.name, SUM(f.membercost) AS MemberCost, SUM(f.guestcost) AS GuestCost, SUM(f.membercost + f.guestcost) AS TotalRevenue\n",
    "        FROM `Bookings` AS b\n",
    "        LEFT JOIN Facilities AS f \n",
    "        ON b.facid = f.facid\n",
    "        GROUP BY f.name\n",
    "        ORDER BY TotalRevenue ASC\n",
    "        \n",
    "        \"\"\"\n",
    "    cur.execute(query1)\n",
    " \n",
    "    rows = cur.fetchall()\n",
    " \n",
    "    for row in rows:\n",
    "        print(row)\n",
    "\n",
    "\n",
    "def main():\n",
    "    database = \"sqlite_db_pythonsqlite.db\"\n",
    " \n",
    "    # create a database connection\n",
    "    conn = create_connection(database)\n",
    "    with conn: \n",
    "        print(\"2. Query all tasks\")\n",
    "        select_all_tasks(conn)\n",
    " \n",
    " \n",
    "if __name__ == '__main__':\n",
    "    main()"
   ]
  },
  {
   "cell_type": "code",
   "execution_count": null,
   "id": "d688930d",
   "metadata": {
    "collapsed": true
   },
   "outputs": [],
   "source": []
  }
 ],
 "metadata": {
  "kernelspec": {
   "display_name": "Python 3 (ipykernel)",
   "language": "python",
   "name": "python3"
  },
  "language_info": {
   "codemirror_mode": {
    "name": "ipython",
    "version": 3
   },
   "file_extension": ".py",
   "mimetype": "text/x-python",
   "name": "python",
   "nbconvert_exporter": "python",
   "pygments_lexer": "ipython3",
   "version": "3.9.12"
  }
 },
 "nbformat": 4,
 "nbformat_minor": 5
}
